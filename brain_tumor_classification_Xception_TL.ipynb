{
  "cells": [
    {
      "cell_type": "markdown",
      "metadata": {
        "id": "view-in-github",
        "colab_type": "text"
      },
      "source": [
        "<a href=\"https://colab.research.google.com/github/mmassonn/brain_tumor_classification/blob/main/brain_tumor_classification_Xception_TL.ipynb\" target=\"_parent\"><img src=\"https://colab.research.google.com/assets/colab-badge.svg\" alt=\"Open In Colab\"/></a>"
      ]
    },
    {
      "cell_type": "code",
      "execution_count": null,
      "metadata": {
        "id": "oU1Wz8Ry2cbG"
      },
      "outputs": [],
      "source": [
        "import numpy as np\n",
        "import os\n",
        "import matplotlib.pyplot as plt\n",
        "import cv2\n",
        "import tensorflow as tf"
      ]
    },
    {
      "cell_type": "code",
      "execution_count": null,
      "metadata": {
        "id": "u6uBrbw0Ju89"
      },
      "outputs": [],
      "source": [
        "import numpy as np\n",
        "import os\n",
        "import matplotlib.pyplot as plt\n",
        "import cv2\n",
        "import tensorflow as tf\n",
        "\n",
        "from keras.utils import np_utils"
      ]
    },
    {
      "cell_type": "code",
      "execution_count": null,
      "metadata": {
        "colab": {
          "base_uri": "https://localhost:8080/"
        },
        "id": "MmINcNOPsJy-",
        "outputId": "c06fc835-cddd-4c31-f69e-a30eebb4089f"
      },
      "outputs": [
        {
          "name": "stdout",
          "output_type": "stream",
          "text": [
            "Mounted at /content/drive\n"
          ]
        }
      ],
      "source": [
        "#Connect drive\n",
        "from google.colab import drive\n",
        "drive.mount('/content/drive')"
      ]
    },
    {
      "cell_type": "markdown",
      "metadata": {
        "id": "5DNkOS6Hsv7D"
      },
      "source": [
        "##Load the training dataset"
      ]
    },
    {
      "cell_type": "code",
      "execution_count": null,
      "metadata": {
        "id": "LWAzvBEGF8ks"
      },
      "outputs": [],
      "source": [
        "def loading_data(pathway):\n",
        "  \n",
        "  X_data=[]\n",
        "  y_data=[]\n",
        "\n",
        "  data_dir = pathway\n",
        "  categories = ['glioma_tumor', 'meningioma_tumor', 'no_tumor', 'pituitary_tumor']\n",
        "\n",
        "  for i in categories:\n",
        "      path = os.path.join(data_dir,i)\n",
        "      for j in os.listdir(path):\n",
        "          img = cv2.imread(os.path.join(path,j), cv2.COLOR_GRAY2RGB)\n",
        "\n",
        "          X_data.append(img)\n",
        "          y_data.append(i)\n",
        "  \n",
        "  return X_data, y_data"
      ]
    },
    {
      "cell_type": "code",
      "execution_count": null,
      "metadata": {
        "id": "S441C-HtID-0"
      },
      "outputs": [],
      "source": [
        "X_train, y_train = loading_data('drive/MyDrive/Colab Notebooks/BTC/Training')"
      ]
    },
    {
      "cell_type": "markdown",
      "metadata": {
        "id": "wYw-mSi8V7WX"
      },
      "source": [
        "##Data preparation"
      ]
    },
    {
      "cell_type": "code",
      "execution_count": null,
      "metadata": {
        "id": "QKgVSmNVXi4G"
      },
      "outputs": [],
      "source": [
        "def resize_img(X_train):\n",
        "  \n",
        "  X_train_new=[]\n",
        "  \n",
        "  for img in X_train:\n",
        "    img = cv2.resize(img,(256,256))\n",
        "    X_train_new.append(img)\n",
        "  \n",
        "  X_train = X_train_new\n",
        "  \n",
        "  return X_train"
      ]
    },
    {
      "cell_type": "code",
      "execution_count": null,
      "metadata": {
        "id": "AgfNpWRXw5T5"
      },
      "outputs": [],
      "source": [
        "def array_img(X_train):\n",
        "\n",
        "  X_train=np.array(X_train)\n",
        "\n",
        "  return X_train"
      ]
    },
    {
      "cell_type": "code",
      "execution_count": null,
      "metadata": {
        "id": "hAUYDti2JcK1"
      },
      "outputs": [],
      "source": [
        "def reshape_img(X_train):\n",
        "\n",
        "  X_train = X_train.reshape(-1, 256, 256, 3)\n",
        "  \n",
        "  return X_train"
      ]
    },
    {
      "cell_type": "code",
      "execution_count": null,
      "metadata": {
        "id": "5DEvW_6nKJNU"
      },
      "outputs": [],
      "source": [
        "X_train = resize_img(X_train)\n",
        "X_train = array_img(X_train)\n",
        "X_train = reshape_img(X_train)"
      ]
    },
    {
      "cell_type": "markdown",
      "metadata": {
        "id": "8mzThiwOK55d"
      },
      "source": [
        "##Split training dataset and validation dataset"
      ]
    },
    {
      "cell_type": "code",
      "execution_count": null,
      "metadata": {
        "id": "F4eFze6itECr"
      },
      "outputs": [],
      "source": [
        "from sklearn.model_selection import train_test_split\n",
        "X_train, X_val, y_train, y_val = train_test_split(X_train,y_train,test_size=0.2,random_state=42)   "
      ]
    },
    {
      "cell_type": "code",
      "execution_count": null,
      "metadata": {
        "id": "YgcgW-iGtHKC"
      },
      "outputs": [],
      "source": [
        "def convert_data(data):\n",
        "\n",
        "  new_data = []\n",
        "  categories = ['glioma_tumor', 'meningioma_tumor', 'no_tumor', 'pituitary_tumor']\n",
        "\n",
        "  for i in data:\n",
        "      new_data.append(categories.index(i))\n",
        "\n",
        "  data = tf.keras.utils.to_categorical(new_data)\n",
        "\n",
        "  return data"
      ]
    },
    {
      "cell_type": "code",
      "execution_count": null,
      "metadata": {
        "id": "KhG18xaze2ZI"
      },
      "outputs": [],
      "source": [
        "y_train = convert_data(y_train)\n",
        "y_val = convert_data(y_val)"
      ]
    },
    {
      "cell_type": "markdown",
      "metadata": {
        "id": "IZqk0k1Iq44t"
      },
      "source": [
        "##Data augmentation"
      ]
    },
    {
      "cell_type": "code",
      "execution_count": null,
      "metadata": {
        "id": "7mNwM6G6q2fm"
      },
      "outputs": [],
      "source": [
        "from tensorflow import keras\n",
        "from tensorflow.keras import layers\n",
        "\n",
        "data_augmentation = keras.Sequential(\n",
        "    [\n",
        "        layers.RandomFlip(\"horizontal\"),\n",
        "        layers.RandomRotation(0.1),\n",
        "        layers.RandomZoom(0.2),\n",
        "    ]\n",
        ")"
      ]
    },
    {
      "cell_type": "code",
      "source": [
        ""
      ],
      "metadata": {
        "id": "d6Yv2puB9DN4"
      },
      "execution_count": null,
      "outputs": []
    },
    {
      "cell_type": "markdown",
      "metadata": {
        "id": "4EtCjCwK1zw7"
      },
      "source": [
        "##Model Architecture"
      ]
    },
    {
      "cell_type": "markdown",
      "metadata": {
        "id": "N5jv6t9Srcf3"
      },
      "source": [
        "###base model with pre-trained weights"
      ]
    },
    {
      "cell_type": "code",
      "execution_count": null,
      "metadata": {
        "colab": {
          "base_uri": "https://localhost:8080/"
        },
        "id": "5VwsDawYrhzM",
        "outputId": "98b1b686-bd49-475d-85b4-a69e17267e0b"
      },
      "outputs": [
        {
          "name": "stdout",
          "output_type": "stream",
          "text": [
            "Downloading data from https://storage.googleapis.com/tensorflow/keras-applications/xception/xception_weights_tf_dim_ordering_tf_kernels_notop.h5\n",
            "83689472/83683744 [==============================] - 1s 0us/step\n",
            "83697664/83683744 [==============================] - 1s 0us/step\n"
          ]
        }
      ],
      "source": [
        "base_model = keras.applications.Xception( weights='imagenet', input_shape=(256, 256, 3), include_top=False)"
      ]
    },
    {
      "cell_type": "markdown",
      "metadata": {
        "id": "ugFVRxyRr0DX"
      },
      "source": [
        "###freeze the base model"
      ]
    },
    {
      "cell_type": "code",
      "execution_count": null,
      "metadata": {
        "id": "B4TiqrsWr2T9"
      },
      "outputs": [],
      "source": [
        "base_model.trainable = False"
      ]
    },
    {
      "cell_type": "markdown",
      "metadata": {
        "id": "x63wSnTpr45h"
      },
      "source": [
        "###Create a new model on top"
      ]
    },
    {
      "cell_type": "code",
      "execution_count": null,
      "metadata": {
        "id": "QB4rNhzAk-rM"
      },
      "outputs": [],
      "source": [
        "inputs = keras.Input(shape=(256, 256, 3))\n",
        "x = data_augmentation(inputs)\n",
        "\n",
        "scale_layer = layers.Rescaling(scale=1 / 127.5, offset=-1)\n",
        "x = scale_layer(x)\n",
        "\n",
        "x = base_model(x, training=False)\n",
        "x = layers.GlobalAveragePooling2D()(x)\n",
        "x = layers.Dropout(0.2)(x) \n",
        "\n",
        "outputs = layers.Dense(4, activation=\"softmax\")(x)\n",
        "\n",
        "model = keras.Model(inputs, outputs)"
      ]
    },
    {
      "cell_type": "code",
      "execution_count": null,
      "metadata": {
        "id": "0rfbKDEDBlbu"
      },
      "outputs": [],
      "source": [
        "model.summary()"
      ]
    },
    {
      "cell_type": "markdown",
      "metadata": {
        "id": "VCQr86bsM73c"
      },
      "source": [
        "##Configuring the model for training"
      ]
    },
    {
      "cell_type": "code",
      "execution_count": null,
      "metadata": {
        "id": "JfatJmK2NH0-"
      },
      "outputs": [],
      "source": [
        "model.compile(loss=\"categorical_crossentropy\",\n",
        "              optimizer= 'adam',\n",
        "              metrics=[\"accuracy\"])"
      ]
    },
    {
      "cell_type": "markdown",
      "metadata": {
        "id": "bZ6BO9hjnnoi"
      },
      "source": [
        "##Fit the model"
      ]
    },
    {
      "cell_type": "code",
      "execution_count": null,
      "metadata": {
        "id": "VCUOKSFinppR"
      },
      "outputs": [],
      "source": [
        "model.fit( X_train, y_train, epochs=20, validation_data=(X_val, y_val))"
      ]
    },
    {
      "cell_type": "markdown",
      "metadata": {
        "id": "fHIEBkVsvHRm"
      },
      "source": [
        "##Do a round of fine-tuning of the entire model"
      ]
    },
    {
      "cell_type": "code",
      "execution_count": null,
      "metadata": {
        "id": "8SFelYKSv_O8"
      },
      "outputs": [],
      "source": [
        "base_model.trainable = True"
      ]
    },
    {
      "cell_type": "code",
      "execution_count": null,
      "metadata": {
        "id": "ZIAVWFYrwCBc"
      },
      "outputs": [],
      "source": [
        "model.summary()"
      ]
    },
    {
      "cell_type": "code",
      "execution_count": null,
      "metadata": {
        "id": "A7RevI0qvNzG"
      },
      "outputs": [],
      "source": [
        "model.compile(loss=\"categorical_crossentropy\",\n",
        "              optimizer= keras.optimizers.Adam(1e-5),\n",
        "              metrics=[\"accuracy\"])"
      ]
    },
    {
      "cell_type": "code",
      "execution_count": null,
      "metadata": {
        "colab": {
          "background_save": true
        },
        "id": "2sFRrnqrwEzV"
      },
      "outputs": [],
      "source": [
        "callbacks = [ keras.callbacks.ModelCheckpoint( filepath=\"convnet_from_scratch.keras\", save_best_only=True, monitor=\"val_loss\")]\n",
        "\n",
        "history = model.fit(X_train, y_train, epochs=10, validation_data=(X_val, y_val), callbacks=callbacks)"
      ]
    },
    {
      "cell_type": "markdown",
      "metadata": {
        "id": "NnUctJaintTd"
      },
      "source": [
        "##Displaying curves of loss and accuracy\n"
      ]
    },
    {
      "cell_type": "code",
      "execution_count": null,
      "metadata": {
        "id": "eR8HtUddnvjd"
      },
      "outputs": [],
      "source": [
        "import matplotlib.pyplot as plt\n",
        "accuracy = history.history[\"accuracy\"]\n",
        "val_accuracy = history.history[\"val_accuracy\"]\n",
        "loss = history.history[\"loss\"]\n",
        "val_loss = history.history[\"val_loss\"]\n",
        "epochs = range(1, len(accuracy) + 1)\n",
        "plt.plot(epochs, accuracy, \"bo\", label=\"Training accuracy\")\n",
        "plt.plot(epochs, val_accuracy, \"b\", label=\"Validation accuracy\")\n",
        "plt.title(\"Training and validation accuracy\")\n",
        "plt.legend()\n",
        "plt.figure()\n",
        "plt.plot(epochs, loss, \"bo\", label=\"Training loss\")\n",
        "plt.plot(epochs, val_loss, \"b\", label=\"Validation loss\")\n",
        "plt.title(\"Training and validation loss\")\n",
        "plt.legend()\n",
        "plt.show()"
      ]
    },
    {
      "cell_type": "markdown",
      "metadata": {
        "id": "5STJP7Kcnz8w"
      },
      "source": [
        "##Evaluating the model on the test set"
      ]
    },
    {
      "cell_type": "code",
      "execution_count": null,
      "metadata": {
        "id": "UK0RmJAripDK"
      },
      "outputs": [],
      "source": [
        "X_test, y_test = loading_data('drive/MyDrive/Colab Notebooks/BTC/Testing')\n",
        "X_test = resize_img(X_test)\n",
        "X_test = array_img(X_test)\n",
        "X_test = reshape_img(X_test)\n",
        "y_test = convert_data(y_test)"
      ]
    },
    {
      "cell_type": "code",
      "execution_count": null,
      "metadata": {
        "colab": {
          "base_uri": "https://localhost:8080/"
        },
        "id": "ZWxu76HYn085",
        "outputId": "59ce3882-9dc4-4473-a30e-c3719b34cbb4"
      },
      "outputs": [
        {
          "name": "stdout",
          "output_type": "stream",
          "text": [
            "13/13 [==============================] - 10s 705ms/step - loss: 1.5720 - accuracy: 0.7589\n",
            "Test accuracy: 75.88832378387451 %\n"
          ]
        }
      ],
      "source": [
        "test_model = keras.models.load_model(\"convnet_from_scratch.keras\")\n",
        "test_loss, test_acc = test_model.evaluate(X_test, y_test)\n",
        "test_acc = test_acc * 100\n",
        "print(f\"Test accuracy: {test_acc} %\")"
      ]
    }
  ],
  "metadata": {
    "accelerator": "TPU",
    "colab": {
      "collapsed_sections": [],
      "machine_shape": "hm",
      "name": "brain_tumor_classification_Xception_TL.ipynb",
      "provenance": [],
      "authorship_tag": "ABX9TyN4MimgODWR/iIaYxoCRrdC",
      "include_colab_link": true
    },
    "kernelspec": {
      "display_name": "Python 3",
      "name": "python3"
    },
    "language_info": {
      "name": "python"
    }
  },
  "nbformat": 4,
  "nbformat_minor": 0
}